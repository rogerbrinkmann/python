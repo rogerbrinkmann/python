{
 "cells": [
  {
   "cell_type": "code",
   "execution_count": 31,
   "metadata": {},
   "outputs": [],
   "source": [
    "import requests"
   ]
  },
  {
   "cell_type": "code",
   "execution_count": 37,
   "metadata": {},
   "outputs": [],
   "source": [
    "url = \"https://thevirustracker.com/free-api\"\n",
    "params = {\"countryTotal\": \"US\"}"
   ]
  },
  {
   "cell_type": "code",
   "execution_count": 38,
   "metadata": {},
   "outputs": [],
   "source": [
    "response = requests.get(url, params)"
   ]
  },
  {
   "cell_type": "code",
   "execution_count": 39,
   "metadata": {},
   "outputs": [
    {
     "data": {
      "text/plain": [
       "200"
      ]
     },
     "execution_count": 39,
     "metadata": {},
     "output_type": "execute_result"
    }
   ],
   "source": [
    "response.status_code"
   ]
  },
  {
   "cell_type": "code",
   "execution_count": 40,
   "metadata": {},
   "outputs": [],
   "source": [
    "data = response.json()"
   ]
  },
  {
   "cell_type": "code",
   "execution_count": 53,
   "metadata": {},
   "outputs": [],
   "source": [
    "def print_country_totals(data):\n",
    "    print(f'Country: {data[\"countrydata\"][0][\"info\"][\"title\"]}')\n",
    "    for k, v in data[\"countrydata\"][0].items():\n",
    "        if k[0:5] == \"total\":\n",
    "            print(f\"{k:>25}: {v}\")"
   ]
  },
  {
   "cell_type": "code",
   "execution_count": 54,
   "metadata": {},
   "outputs": [
    {
     "name": "stdout",
     "output_type": "stream",
     "text": [
      "Country: USA\n",
      "              total_cases: 19774\n",
      "          total_recovered: 147\n",
      "         total_unresolved: 0\n",
      "             total_deaths: 275\n",
      "    total_new_cases_today: 391\n",
      "   total_new_deaths_today: 19\n",
      "       total_active_cases: 19352\n",
      "      total_serious_cases: 64\n"
     ]
    }
   ],
   "source": [
    "print_country_totals(data)"
   ]
  },
  {
   "cell_type": "code",
   "execution_count": 57,
   "metadata": {},
   "outputs": [],
   "source": [
    "class CountryDataBase:\n",
    "    def print_country_totals(self):\n",
    "        print(f'Country: {data[\"countrydata\"][0][\"info\"][\"title\"]}')\n",
    "        for k, v in data[\"countrydata\"][0].items():\n",
    "            if k[0:5] == \"total\":\n",
    "                print(f\"{k:>25}: {v}\")\n",
    "\n",
    "class CountryData(CountryDataBase):\n",
    "    def __init__(self, country_code):\n",
    "        pass"
   ]
  },
  {
   "cell_type": "code",
   "execution_count": null,
   "metadata": {},
   "outputs": [],
   "source": []
  }
 ],
 "metadata": {
  "kernelspec": {
   "display_name": "Python 3",
   "language": "python",
   "name": "python3"
  },
  "language_info": {
   "codemirror_mode": {
    "name": "ipython",
    "version": 3
   },
   "file_extension": ".py",
   "mimetype": "text/x-python",
   "name": "python",
   "nbconvert_exporter": "python",
   "pygments_lexer": "ipython3",
   "version": "3.7.5"
  }
 },
 "nbformat": 4,
 "nbformat_minor": 2
}
